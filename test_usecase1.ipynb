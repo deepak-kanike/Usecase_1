{
 "cells": [
  {
   "cell_type": "code",
   "execution_count": 26,
   "id": "84776519",
   "metadata": {},
   "outputs": [
    {
     "name": "stdout",
     "output_type": "stream",
     "text": [
      "Note: you may need to restart the kernel to use updated packages.\n"
     ]
    }
   ],
   "source": [
    "pip install -r requirements.txt -q"
   ]
  },
  {
   "cell_type": "markdown",
   "id": "60a5897c",
   "metadata": {},
   "source": [
    "### OpenAI API Key"
   ]
  },
  {
   "cell_type": "code",
   "execution_count": 1,
   "id": "cd04c43e",
   "metadata": {},
   "outputs": [],
   "source": [
    "import os\n",
    "from openai import OpenAI\n",
    "from dotenv import load_dotenv\n",
    "from langchain_openai import ChatOpenAI\n",
    "\n",
    "load_dotenv()\n",
    "\n",
    "OPENAI_API_KEY = os.getenv(\"OPENAI_API_KEY\")\n",
    "if not OPENAI_API_KEY:\n",
    "    raise ValueError(\"OPENAI_API_KEY not found in environment variables.\")\n",
    "\n",
    "client = OpenAI(api_key=OPENAI_API_KEY)"
   ]
  },
  {
   "cell_type": "markdown",
   "id": "8613bc28",
   "metadata": {},
   "source": [
    "### Create compliance documents for context"
   ]
  },
  {
   "cell_type": "code",
   "execution_count": 2,
   "id": "276e0d85",
   "metadata": {},
   "outputs": [],
   "source": [
    "from langchain_core.prompts import PromptTemplate\n",
    "\n",
    "template=PromptTemplate(\n",
    "    template=\"\"\"\n",
    "You are an expert in financial compliance monitoring trained to analyze employee and external email communications. Your task is to help generate realistic training data for a bank's email surveillance AI. \n",
    "\n",
    "Generate {num} diverse and representative email examples for the compliance category: **{category}**.\n",
    "\n",
    "---\n",
    "\n",
    "Each example must include:\n",
    "\n",
    "1. A **realistic short scenario** or email snippet (3-4 lines max) that resembles an actual corporate email. It should be written in natural, professional language.\n",
    "2. A flag: `is_violation = true` if the example clearly violates the given compliance category, or `false` if it's compliant or a false positive.\n",
    "3. An **explanation** that justifies the label—clearly describing the intent or phrasing that makes it a violation or not.\n",
    "\n",
    "---\n",
    "\n",
    "Guidance:\n",
    "- Include a variety of cases: clear violations, borderline/confusing cases, and compliant emails that may seem suspicious but are **not** violations.\n",
    "- Use **real-world language**, not overly formal or synthetic text.\n",
    "- Some examples should mimic **false positives**, where emails sound suspicious but are actually compliant.\n",
    "- Avoid obvious keywords — think like someone trying to conceal intent.\n",
    "- Each example must stand alone.\n",
    "- Generate exactly {num} diverse and representative email examples for the category **{category}**. Do not generate more than {num} example(s).\n",
    "\n",
    "---\n",
    "\n",
    "Output format:\n",
    "A JSON list of dictionaries with the following keys:\n",
    "- \"{category}\"\n",
    "- `description`: detaileddefinition of the compliance category in the context of financial institutions\n",
    "- `email`: the email line or short message\n",
    "- `is_violation`: true or false\n",
    "- `explanation`: your reasoning\n",
    "\n",
    "Output your response as a single JSON object in the following format:\n",
    "\n",
    "{{\n",
    "  \"{category}\": {{\n",
    "    \"description\": \"definition of what the '{category}' category means in financial compliance.\",\n",
    "    \"examples\": [\n",
    "      {{\n",
    "        \"email\": \"Let's handle this off the record, please.\",\n",
    "        \"is_violation\": true,\n",
    "        \"explanation\": \"Suggests avoiding formal communication for secrecy.\"\n",
    "      }},\n",
    "      ...\n",
    "    ]\n",
    "  }}\n",
    "}}\n",
    "\"\"\",\n",
    "    input_variables=['category','num']\n",
    ")"
   ]
  },
  {
   "cell_type": "code",
   "execution_count": 29,
   "id": "c6dd7e8f",
   "metadata": {},
   "outputs": [
    {
     "name": "stdout",
     "output_type": "stream",
     "text": [
      "{\n",
      "  \"Secrecy\": {\n",
      "    \"description\": \"The 'Secrecy' category pertains to communications where employees or external parties attempt to conceal sensitive information, discuss confidential matters informally, or encourage discretion that could undermine transparency and compliance protocols within the financial institution.\",\n",
      "    \"examples\": [\n",
      "      {\n",
      "        \"email\": \"Please keep this between us; I don’t want anyone else to know about the upcoming deal.\",\n",
      "        \"is_violation\": true,\n",
      "        \"explanation\": \"The phrase 'keep this between us' indicates an attempt to conceal information, which violates policies requiring transparency and proper disclosure of sensitive financial activities.\"\n",
      "      },\n",
      "      {\n",
      "        \"email\": \"I just wanted to confirm that the client’s details are only shared with the authorized team, no outside parties involved.\",\n",
      "        \"is_violation\": false,\n",
      "        \"explanation\": \"This message emphasizes confidentiality and proper handling of client information, aligning with compliance requirements. It does not suggest concealment or secrecy beyond standard confidentiality practices.\"\n",
      "      }\n",
      "    ]\n",
      "  }\n",
      "}\n"
     ]
    }
   ],
   "source": [
    "# Generate 2 examples for 'Secrecy' category\n",
    "\n",
    "openai_model=ChatOpenAI(model=\"gpt-4.1-nano\", temperature=0.5)\n",
    "\n",
    "prompt = template.invoke({\"category\":\"Secrecy\",\"num\":2})\n",
    "json_result = openai_model.invoke(prompt).content\n",
    "\n",
    "print(json_result)"
   ]
  },
  {
   "cell_type": "markdown",
   "id": "471768bf",
   "metadata": {},
   "source": [
    "### Load compliance documents"
   ]
  },
  {
   "cell_type": "code",
   "execution_count": 3,
   "id": "189dc71c",
   "metadata": {},
   "outputs": [],
   "source": [
    "import json\n",
    "from langchain.docstore.document import Document\n",
    "from langchain.chat_models import ChatOpenAI\n",
    "import os"
   ]
  },
  {
   "cell_type": "code",
   "execution_count": null,
   "id": "a8f152a7",
   "metadata": {},
   "outputs": [],
   "source": [
    "with open(\"compliance_docs.json\") as f:\n",
    "    raw_data = json.load(f)\n",
    "\n",
    "#print(raw_data)"
   ]
  },
  {
   "cell_type": "code",
   "execution_count": null,
   "id": "b356db12",
   "metadata": {},
   "outputs": [],
   "source": [
    "# docs is a list of LangChain Document objects.\n",
    "#Each object contains the content and metadata for one compliance example.\n",
    "docs = []\n",
    "for category, cat_desc in raw_data.items():\n",
    "    description = cat_desc.get(\"description\", \"\")\n",
    "    for example in cat_desc.get(\"examples\", []):\n",
    "        email = example.get(\"email\", \"\")\n",
    "        is_violation = example.get(\"is_violation\")\n",
    "        explanation = example.get(\"explanation\")\n",
    "        metadata = {\"source\": \"compliance_docs.json\"}\n",
    "\n",
    "        text = f\"Category: {category}\\nCategory Description: {description}\\nEmail: {email}\\nViolation: {is_violation}\\nExplanation: {explanation}\"\n",
    "        docs.append(Document(page_content=text, metadata=metadata))\n",
    "\n",
    "docs\n",
    "for doc in docs:\n",
    "    print(doc.page_content)\n",
    "    print(doc.metadata)\n"
   ]
  },
  {
   "cell_type": "markdown",
   "id": "364ea030",
   "metadata": {},
   "source": [
    "### Retrieve relevant compliance document snippets\n"
   ]
  },
  {
   "cell_type": "markdown",
   "id": "148508b8",
   "metadata": {},
   "source": [
    "FAISS VectorStore + OpenAI Embeddings"
   ]
  },
  {
   "cell_type": "code",
   "execution_count": null,
   "id": "12ce7069",
   "metadata": {},
   "outputs": [],
   "source": [
    "email_text = \"Quick chat on Friday\t\\nHey, just a heads up—Friday's move wasn't random. Let's catch up offline and talk strategy before Monday opens. 😉\"\n",
    "\n",
    "email_text1 = \"Spokesperson Q&A draft \\nHere's the internal draft we'll use unless compliance red flags it. It reflects our recent positioning on derivatives.\"\n",
    "\n",
    "email_text3 = \"Password Reset Confirmation \\nYour credentials have been reset as requested. Please change them after your next login. This is a system-generated message.\"\n",
    "\n",
    "email_text2 = \"Urgent: Deployment blocker\tWe need that patch by EOD or we'll be in breach of SLA. If you can make it happen today, I'll make it worth your while.\""
   ]
  },
  {
   "cell_type": "code",
   "execution_count": 130,
   "id": "a040addd",
   "metadata": {},
   "outputs": [],
   "source": [
    "from langchain_community.vectorstores import FAISS\n",
    "from langchain.embeddings import OpenAIEmbeddings\n",
    "\n",
    "embedding_model = OpenAIEmbeddings(model=\"text-embedding-3-small\")\n",
    "\n",
    "# Build knowledge base using FAISS\n",
    "knowledge_base = FAISS.from_documents(docs, embedding_model)\n",
    "\n",
    "# Query for similar docs\n",
    "\n",
    "def get_relevant_context(email_text, num_docs):\n",
    "    results = knowledge_base.similarity_search(email_text, k=num_docs)\n",
    "\n",
    "    context_snippets = [doc.page_content for doc in results[0:3]]\n",
    "\n",
    "    context = \"\\n\\n\".join(context_snippets)\n",
    "    return results, context\n",
    "\n",
    "num_docs = 6\n",
    "results, context = get_relevant_context(email_text,num_docs)"
   ]
  },
  {
   "cell_type": "code",
   "execution_count": 115,
   "id": "1dcd1a32",
   "metadata": {},
   "outputs": [
    {
     "data": {
      "text/plain": [
       "'Category: Market Manipulation/Misconduct\\nCategory Description: Market Manipulation/Misconduct involves actions or communications intended to artificially influence the price, volume, or perception of a security or market, including spreading false information, engaging in coordinated trading, or conspiring to create a misleading appearance of activity. Such behavior undermines fair trading and violates regulatory standards. This includes, but is not limited to: Spread false information, Engage in coordinated trading, Conspire to create a misleading appearance of activity, Spoofing or layering (placing fake orders to mislead), Front-running (trading ahead of client orders), Collusive trading to create false market signals, Spreading false or misleading information to influence price movement, Misuse of insider or material non-public information, Artificially inflating volume or demand to affect market perception.\\nEmail: Can we discuss our trading strategy for the upcoming quarter? I have some ideas that could move the market slightly.\\nViolation: False\\nExplanation: While somewhat vague, this does not explicitly suggest any manipulative activity; it appears to be a strategic discussion.'"
      ]
     },
     "execution_count": 115,
     "metadata": {},
     "output_type": "execute_result"
    }
   ],
   "source": [
    "results[0].page_content"
   ]
  },
  {
   "cell_type": "code",
   "execution_count": 125,
   "id": "544ae53d",
   "metadata": {},
   "outputs": [
    {
     "name": "stdout",
     "output_type": "stream",
     "text": [
      "Relevant: No  \n",
      "Relevance Score: 1\n",
      "Context 1: Not relevant (attempt 1).\n",
      "Relevant: No  \n",
      "Relevance Score: 1\n",
      "Context 1: Not relevant (attempt 2).\n",
      "Relevant: No  \n",
      "Relevance Score: 1\n",
      "Context 1: Not relevant (attempt 3).\n",
      "Context 1: No relevant context found after 3 attempts. Leaving slot empty.\n",
      "\n",
      "\n",
      "Relevant: Yes  \n",
      "Relevance Score: 3\n",
      "Context 2: Relevant context accepted.\n",
      "\n",
      "\n",
      "Relevant: Yes  \n",
      "Relevance Score: 3\n",
      "Context 3: Relevant context accepted.\n",
      "\n",
      "\n",
      "Relevant: No  \n",
      "Relevance Score: 1\n",
      "Context 4: Not relevant (attempt 1).\n",
      "Relevant: No  \n",
      "Relevance Score: 1\n",
      "Context 4: Not relevant (attempt 2).\n",
      "Relevant: No  \n",
      "Relevance Score: 1\n",
      "Context 4: Not relevant (attempt 3).\n",
      "Context 4: No relevant context found after 3 attempts. Leaving slot empty.\n",
      "\n",
      "\n",
      "Final relevant contexts:\n",
      "Context 1: None\n",
      "Context 2: Found\n",
      "Context 3: Found\n",
      "Context 4: None\n"
     ]
    }
   ],
   "source": [
    "import re\n",
    "\n",
    "contexts_needed = 4\n",
    "max_attempts = 3\n",
    "final_contexts = []\n",
    "\n",
    "for i, doc in enumerate(results[:contexts_needed]):\n",
    "    context_to_check = doc.page_content\n",
    "    relevant_found = False\n",
    "    for attempt in range(max_attempts):\n",
    "        prompt = f\"\"\"\n",
    "You are a senior compliance auditor reviewing training data for a bank compliance LLM.\n",
    "\n",
    "Please review the following entry for its relevance to the compliance scenario described in the email.\n",
    "\n",
    "### Compliance Reference Context:\n",
    "{context_to_check}\n",
    "\n",
    "---\n",
    "\n",
    "### Email to Analyze:\n",
    "{email_text}\n",
    "\n",
    "Evaluate:\n",
    "- Give a 'yes' or 'no' answer to show if the document is relevant to the email to analyze.\n",
    "- Relevance score: (1-5) is the context useful to analyze the email and categorize it?\n",
    "\n",
    "Output format:\n",
    "----------\n",
    "  \"Relevant: Yes/No\"\n",
    "  \"Relevance Score\": 1-5, \n",
    "\"\"\"\n",
    "        response = client.chat.completions.create(\n",
    "            model=\"gpt-4.1-nano\",\n",
    "            messages=[{\"role\": \"user\", \"content\": prompt}],\n",
    "            temperature=0\n",
    "        )\n",
    "        analysis = response.choices[0].message.content\n",
    "        match = re.search(r'Relevant:\\s*(Yes|No)', analysis,  re.IGNORECASE)\n",
    "        if match and match.group(1).lower() == \"yes\":\n",
    "            print(analysis)\n",
    "            print(f\"Context {i+1}: Relevant context accepted.\")\n",
    "            final_contexts.append(context_to_check)\n",
    "            relevant_found = True\n",
    "            break\n",
    "        else:\n",
    "            print(analysis)\n",
    "            print(f\"Context {i+1}: Not relevant (attempt {attempt+1}).\")\n",
    "            context_to_check = results[2+attempt+1].page_content\n",
    "            # Optionally: fetch a new context here if you have a function for that.\n",
    "            # For now, just retry the same context.\n",
    "    if not relevant_found:\n",
    "        print(f\"Context {i+1}: No relevant context found after {max_attempts} attempts. Leaving slot empty.\")\n",
    "        final_contexts.append('')\n",
    "    print(\"\\n\")\n",
    "    \n",
    "final_contexts_str = \"\\n\\n\".join(final_contexts)\n",
    "\n",
    "print(\"Final relevant contexts:\")\n",
    "for idx, ctx in enumerate(final_contexts, 1):\n",
    "    print(f\"Context {idx}:\", \"Found\" if ctx else \"None\")"
   ]
  },
  {
   "cell_type": "code",
   "execution_count": 126,
   "id": "9a5e8c0e",
   "metadata": {},
   "outputs": [
    {
     "name": "stdout",
     "output_type": "stream",
     "text": [
      "\n",
      "You are a senior compliance auditor reviewing training data for a bank compliance LLM.\n",
      "\n",
      "Please review the following entry for its relevance to the compliance scenario described in the email.\n",
      "\n",
      "### Compliance Reference Context:\n",
      "Category: Change in Communication\n",
      "Category Description: This category pertains to instances where employees or external parties alter their typical communication channels, methods, or tone to conceal, bypass, or modify oversight and compliance procedures within a financial institution. Such changes may indicate an attempt to hide illicit activities or avoid scrutiny. This includes, but is not limited to: Altering communication channels, methods, or tone to conceal, bypass, or modify oversight and compliance procedures within a financial institution, Altering communication channels, methods, or tone to conceal, bypass, or modify oversight and compliance procedures within a financial institution, Suggesting use of personal phones, encrypted apps (e.g., Signal, WhatsApp), or face-to-face discussions for sensitive topics, Avoiding recordkeeping systems like CRM or compliance-monitored tools, Statements like “let's not put this in writing” or “call me instead.\n",
      "Email: Let's start discussing confidential deals over encrypted chat to ensure privacy.\n",
      "Violation: True\n",
      "Explanation: Proposing a change to encrypted chat for confidential discussions suggests an attempt to alter communication practices to avoid detection, which is a violation.\n",
      "\n",
      "---\n",
      "\n",
      "### Email to Analyze:\n",
      "Quick chat on Friday\t\n",
      "Hey, just a heads up—Friday's move wasn't random. Let's catch up offline and talk strategy before Monday opens. 😉\n",
      "\n",
      "Evaluate:\n",
      "- Give a 'yes' or 'no' answer to show if the document is relevant to the email to analyze.\n",
      "- Relevance score: (1-5) is the context useful to analyze the email and categorize it?\n",
      "\n",
      "Output format:\n",
      "----------\n",
      "  \"Relevant: Yes/No\"\n",
      "  \"Relevance Score\": 1-5, \n",
      "\n"
     ]
    }
   ],
   "source": [
    "print(prompt)"
   ]
  },
  {
   "cell_type": "code",
   "execution_count": 127,
   "id": "9121c092",
   "metadata": {},
   "outputs": [
    {
     "name": "stdout",
     "output_type": "stream",
     "text": [
      "\n",
      "\n",
      "Category: Change in Communication\n",
      "Category Description: This category pertains to instances where employees or external parties alter their typical communication channels, methods, or tone to conceal, bypass, or modify oversight and compliance procedures within a financial institution. Such changes may indicate an attempt to hide illicit activities or avoid scrutiny. This includes, but is not limited to: Altering communication channels, methods, or tone to conceal, bypass, or modify oversight and compliance procedures within a financial institution, Altering communication channels, methods, or tone to conceal, bypass, or modify oversight and compliance procedures within a financial institution, Suggesting use of personal phones, encrypted apps (e.g., Signal, WhatsApp), or face-to-face discussions for sensitive topics, Avoiding recordkeeping systems like CRM or compliance-monitored tools, Statements like “let's not put this in writing” or “call me instead.\n",
      "Email: Moving forward, I will be communicating via WhatsApp for quick updates instead of email.\n",
      "Violation: False\n",
      "Explanation: The employee is shifting communication channels but openly states the change; this is not necessarily suspicious or a violation, especially if authorized.\n",
      "\n",
      "Category: Change in Communication\n",
      "Category Description: This category pertains to instances where employees or external parties alter their typical communication channels, methods, or tone to conceal, bypass, or modify oversight and compliance procedures within a financial institution. Such changes may indicate an attempt to hide illicit activities or avoid scrutiny. This includes, but is not limited to: Altering communication channels, methods, or tone to conceal, bypass, or modify oversight and compliance procedures within a financial institution, Altering communication channels, methods, or tone to conceal, bypass, or modify oversight and compliance procedures within a financial institution, Suggesting use of personal phones, encrypted apps (e.g., Signal, WhatsApp), or face-to-face discussions for sensitive topics, Avoiding recordkeeping systems like CRM or compliance-monitored tools, Statements like “let's not put this in writing” or “call me instead.\n",
      "Email: Starting next week, let's switch our updates to encrypted messaging apps instead of email.\n",
      "Violation: True\n",
      "Explanation: The suggestion to switch communication methods to potentially less monitored channels indicates a change intended to evade oversight, constituting a violation.\n",
      "\n",
      "\n"
     ]
    }
   ],
   "source": [
    "print(final_contexts_str)"
   ]
  },
  {
   "cell_type": "markdown",
   "id": "9eba7400",
   "metadata": {},
   "source": [
    "### Build prompt for LLM"
   ]
  },
  {
   "cell_type": "code",
   "execution_count": null,
   "id": "86900f10",
   "metadata": {},
   "outputs": [],
   "source": [
    "prompt = f\"\"\"\n",
    "You are an expert compliance AI working for a financial institution. Your responsibility is to carefully and objectively assess the following email communication for any signs of regulatory, ethical, or internal policy violations.\n",
    "\n",
    "You must **strictly rely on the provided compliance reference context** as your decision-making framework. If the email appears suspicious or potentially non-compliant, classify it under the most relevant categories. If it is compliant, respond accordingly. All conclusions should be based on **direct alignment with the context definitions**, avoiding speculation or subjective interpretation.\n",
    "\n",
    "---\n",
    "\n",
    "### Compliance Reference Context:\n",
    "{context}\n",
    "\n",
    "---\n",
    "\n",
    "### Email to Analyze:\n",
    "{email_text}\n",
    "\n",
    "---\n",
    "\n",
    "### Your Task:\n",
    "1. **Review the email** to determine whether it reflects any misconduct, unethical behavior, secrecy, or inappropriate communication practices, **based solely on the context above**.\n",
    "2. **Only classify as non-compliant if the context clearly supports it.** Use conservative judgment: if the email seems vague or lacks sufficient context to warrant a violation, default to \"Compliant\".\n",
    "3. **Do not hallucinate.** Ground all decisions strictly in the given context and the actual email content.\n",
    "4. **If any violations are found**, categorize them using the labels provided in the context and explain your reasoning clearly and briefly.\n",
    "5. **If compliant**, explain why it aligns with ethical and compliant communication.\n",
    "\n",
    "---\n",
    "\n",
    "### Output Format (Strict):\n",
    "Compliant: Yes / No  \n",
    "Category: [If non-compliant, select from: Secrecy, Market Manipulation/Misconduct, Bribery, Change in Communication, Complaints, Employee Ethics, Other. If compliant, write: None]  \n",
    "Reason: [Brief explanation referencing specific phrases or intent, and how they align with the context]  \n",
    "Source Lines: [Exact quoted lines from the email that triggered the classification. Use quotation marks.]\n",
    "\n",
    "---\n",
    "Did you rely on the context provided to make your classification: [Yes/No] \n",
    "If yes, please list the context(s) you used, and how they affected your classification.\n",
    "\"\"\"\n",
    "\n",
    "print(prompt)"
   ]
  },
  {
   "cell_type": "markdown",
   "id": "7a3e72f1",
   "metadata": {},
   "source": [
    "### Get LLM output"
   ]
  },
  {
   "cell_type": "code",
   "execution_count": 132,
   "id": "09e9967f",
   "metadata": {},
   "outputs": [
    {
     "name": "stdout",
     "output_type": "stream",
     "text": [
      "Compliant: Yes  \n",
      "Category: None  \n",
      "Reason: The email is vague and does not explicitly suggest any misconduct, secrecy, or attempt to bypass oversight. It appears to be a casual or strategic discussion about scheduling and planning, with no indication of illicit activity or covert communication methods.  \n",
      "Source Lines: \"Quick chat on Friday\"  \n",
      "Did you rely on the context provided to make your classification: Yes  \n",
      "If yes, please list the context(s) you used, and how they affected your classification.  \n",
      "- Market Manipulation/Misconduct: The message does not mention any activity or intent to influence markets or securities.  \n",
      "- Change in Communication: While it hints at offline or informal discussion, it does not specify a change to less monitored channels or suggest an intent to evade oversight.  \n",
      "- Overall, the content is neutral and does not raise compliance concerns based on the provided context.\n"
     ]
    }
   ],
   "source": [
    "response = client.chat.completions.create(model=\"gpt-4.1-nano\",\n",
    "    messages=[\n",
    "        {\"role\": \"system\", \"content\": \"You are a compliance classification assistant.\"},\n",
    "        {\"role\": \"user\", \"content\": prompt}\n",
    "    ],\n",
    "    temperature=0.0)\n",
    "\n",
    "print(response.choices[0].message.content)"
   ]
  }
 ],
 "metadata": {
  "kernelspec": {
   "display_name": "Python 3",
   "language": "python",
   "name": "python3"
  },
  "language_info": {
   "codemirror_mode": {
    "name": "ipython",
    "version": 3
   },
   "file_extension": ".py",
   "mimetype": "text/x-python",
   "name": "python",
   "nbconvert_exporter": "python",
   "pygments_lexer": "ipython3",
   "version": "3.13.5"
  }
 },
 "nbformat": 4,
 "nbformat_minor": 5
}

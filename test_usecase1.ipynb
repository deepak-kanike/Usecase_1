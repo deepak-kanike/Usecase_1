{
 "cells": [
  {
   "cell_type": "code",
   "execution_count": 4,
   "id": "84776519",
   "metadata": {},
   "outputs": [
    {
     "name": "stdout",
     "output_type": "stream",
     "text": [
      "Note: you may need to restart the kernel to use updated packages.\n"
     ]
    }
   ],
   "source": [
    "pip install -r requirements.txt -q"
   ]
  },
  {
   "cell_type": "markdown",
   "id": "60a5897c",
   "metadata": {},
   "source": [
    "### OpenAI API Key"
   ]
  },
  {
   "cell_type": "code",
   "execution_count": 6,
   "id": "cd04c43e",
   "metadata": {},
   "outputs": [],
   "source": [
    "import os\n",
    "from openai import OpenAI\n",
    "from dotenv import load_dotenv\n",
    "from langchain_openai import ChatOpenAI\n",
    "\n",
    "load_dotenv()\n",
    "\n",
    "OPENAI_API_KEY = os.getenv(\"OPENAI_API_KEY\")\n",
    "if not OPENAI_API_KEY:\n",
    "    raise ValueError(\"OPENAI_API_KEY not found in environment variables.\")\n",
    "\n",
    "client = OpenAI(api_key=OPENAI_API_KEY)"
   ]
  },
  {
   "cell_type": "markdown",
   "id": "8613bc28",
   "metadata": {},
   "source": [
    "### Create compliance documents for context"
   ]
  },
  {
   "cell_type": "code",
   "execution_count": 7,
   "id": "276e0d85",
   "metadata": {},
   "outputs": [],
   "source": [
    "from langchain_core.prompts import PromptTemplate\n",
    "\n",
    "template=PromptTemplate(\n",
    "    template=\"\"\"\n",
    "You are an expert in financial compliance monitoring trained to analyze employee and external email communications. Your task is to help generate realistic training data for a bank's email surveillance AI. \n",
    "\n",
    "Generate {num} diverse and representative email examples for the compliance category: **{category}**.\n",
    "\n",
    "---\n",
    "\n",
    "Each example must include:\n",
    "\n",
    "1. A **realistic short scenario** or email snippet (3-4 lines max) that resembles an actual corporate email. It should be written in natural, professional language.\n",
    "2. A flag: `is_violation = true` if the example clearly violates the given compliance category, or `false` if it's compliant or a false positive.\n",
    "3. An **explanation** that justifies the label—clearly describing the intent or phrasing that makes it a violation or not.\n",
    "\n",
    "---\n",
    "\n",
    "Guidance:\n",
    "- Include a variety of cases: clear violations, borderline/confusing cases, and compliant emails that may seem suspicious but are **not** violations.\n",
    "- Use **real-world language**, not overly formal or synthetic text.\n",
    "- Some examples should mimic **false positives**, where emails sound suspicious but are actually compliant.\n",
    "- Avoid obvious keywords — think like someone trying to conceal intent.\n",
    "- Each example must stand alone.\n",
    "- Generate exactly {num} diverse and representative email examples for the category **{category}**. Do not generate more than {num} example(s).\n",
    "\n",
    "---\n",
    "\n",
    "Output format:\n",
    "A JSON list of dictionaries with the following keys:\n",
    "- \"{category}\"\n",
    "- `description`: detaileddefinition of the compliance category in the context of financial institutions\n",
    "- `email`: the email line or short message\n",
    "- `is_violation`: true or false\n",
    "- `explanation`: your reasoning\n",
    "\n",
    "Output your response as a single JSON object in the following format:\n",
    "\n",
    "{{\n",
    "  \"{category}\": {{\n",
    "    \"description\": \"definition of what the '{category}' category means in financial compliance.\",\n",
    "    \"examples\": [\n",
    "      {{\n",
    "        \"email\": \"Let's handle this off the record, please.\",\n",
    "        \"is_violation\": true,\n",
    "        \"explanation\": \"Suggests avoiding formal communication for secrecy.\"\n",
    "      }},\n",
    "      ...\n",
    "    ]\n",
    "  }}\n",
    "}}\n",
    "\"\"\",\n",
    "    input_variables=['category','num']\n",
    ")"
   ]
  },
  {
   "cell_type": "code",
   "execution_count": null,
   "id": "c6dd7e8f",
   "metadata": {},
   "outputs": [
    {
     "name": "stdout",
     "output_type": "stream",
     "text": [
      "{\n",
      "  \"Secrecy\": {\n",
      "    \"description\": \"The 'Secrecy' category pertains to communications where employees or external parties attempt to conceal sensitive information, discuss confidential matters informally, or encourage discretion that could undermine transparency and compliance protocols within the financial institution.\",\n",
      "    \"examples\": [\n",
      "      {\n",
      "        \"email\": \"Please keep this between us; I don’t want anyone else to know about the upcoming deal.\",\n",
      "        \"is_violation\": true,\n",
      "        \"explanation\": \"The phrase 'keep this between us' indicates an attempt to conceal information, which violates policies requiring transparency and proper disclosure of sensitive financial activities.\"\n",
      "      },\n",
      "      {\n",
      "        \"email\": \"I just wanted to confirm that the client’s details are only shared with the authorized team, no outside parties involved.\",\n",
      "        \"is_violation\": false,\n",
      "        \"explanation\": \"This message emphasizes confidentiality and proper handling of client information, aligning with compliance requirements. It does not suggest concealment or secrecy beyond standard confidentiality practices.\"\n",
      "      }\n",
      "    ]\n",
      "  }\n",
      "}\n"
     ]
    }
   ],
   "source": [
    "# Generate 2 examples for 'Secrecy' category\n",
    "\n",
    "openai_model=ChatOpenAI(model=\"gpt-4.1-nano\", temperature=0.5)\n",
    "\n",
    "prompt = template.invoke({\"category\":\"Secrecy\",\"num\":2})\n",
    "json_result = openai_model.invoke(prompt).content\n",
    "\n",
    "print(json_result)"
   ]
  },
  {
   "cell_type": "markdown",
   "id": "471768bf",
   "metadata": {},
   "source": [
    "### Load compliance documents"
   ]
  },
  {
   "cell_type": "code",
   "execution_count": 8,
   "id": "189dc71c",
   "metadata": {},
   "outputs": [],
   "source": [
    "import json\n",
    "from langchain.docstore.document import Document\n",
    "from langchain.chat_models import ChatOpenAI\n",
    "import os"
   ]
  },
  {
   "cell_type": "code",
   "execution_count": 9,
   "id": "a8f152a7",
   "metadata": {},
   "outputs": [],
   "source": [
    "with open(\"compliance_docs.json\") as f:\n",
    "    raw_data = json.load(f)\n",
    "\n",
    "#print(raw_data)"
   ]
  },
  {
   "cell_type": "code",
   "execution_count": null,
   "id": "b356db12",
   "metadata": {},
   "outputs": [],
   "source": [
    "# docs is a list of LangChain Document objects.\n",
    "#Each object contains the content and metadata for one compliance example.\n",
    "docs = []\n",
    "for category, cat_desc in raw_data.items():\n",
    "    description = cat_desc.get(\"description\", \"\")\n",
    "    for example in cat_desc.get(\"examples\", []):\n",
    "        email = example.get(\"email\", \"\")\n",
    "        is_violation = example.get(\"is_violation\")\n",
    "        explanation = example.get(\"explanation\")\n",
    "        metadata = {\"source\": \"compliance_docs.json\"}\n",
    "\n",
    "        text = f\"Category: {category}\\nCategory Description: {description}\\nEmail: {email}\\nViolation: {is_violation}\\nExplanation: {explanation}\"\n",
    "        docs.append(Document(page_content=text, metadata=metadata))\n",
    "\n",
    "docs\n",
    "for doc in docs:\n",
    "    print(doc.page_content)\n",
    "    print(doc.metadata)\n"
   ]
  },
  {
   "cell_type": "markdown",
   "id": "364ea030",
   "metadata": {},
   "source": [
    "### Retrieve relevant compliance document snippets\n"
   ]
  },
  {
   "cell_type": "markdown",
   "id": "148508b8",
   "metadata": {},
   "source": [
    "FAISS VectorStore + OpenAI Embeddings"
   ]
  },
  {
   "cell_type": "code",
   "execution_count": null,
   "id": "12ce7069",
   "metadata": {},
   "outputs": [],
   "source": [
    "email_text = \"Let's close the deal \\nIt would be best to give importance to this deal with XCorp tomorrow. We might have to oversee some company policies, but it is for the greater good. Eager to close this deal asap.\"\n",
    "\n",
    "email_text1 = \"Spokesperson Q&A draft \\nHere's the internal draft we'll use unless compliance red flags it. It reflects our recent positioning on derivatives.\"\n",
    "email_text2 = \"Password Reset Confirmation \\nYour credentials have been reset as requested. Please change them after your next login. This is a system-generated message.\""
   ]
  },
  {
   "cell_type": "code",
   "execution_count": 111,
   "id": "a040addd",
   "metadata": {},
   "outputs": [],
   "source": [
    "from langchain_community.vectorstores import FAISS\n",
    "from langchain.embeddings import OpenAIEmbeddings\n",
    "\n",
    "embedding_model = OpenAIEmbeddings(model=\"text-embedding-3-small\")\n",
    "\n",
    "# Build knowledge base using FAISS\n",
    "knowledge_base = FAISS.from_documents(docs, embedding_model)\n",
    "\n",
    "# Query for similar docs\n",
    "\n",
    "def get_relevant_context(email_text, num_docs):\n",
    "    #converts (email_text) into an embedding, then find top k most similar documents in the knowledge base based on vector distance\n",
    "    results = knowledge_base.similarity_search(email_text, k=num_docs)\n",
    "\n",
    "    all_results = \"\\n\\n\".join([doc.page_content for doc in results])\n",
    "    context_snippets = [doc.page_content for doc in results[0:3]]\n",
    "\n",
    "    context = \"\\n\\n\".join(context_snippets)\n",
    "    return all_results, results, context\n",
    "\n",
    "num_docs = 6\n",
    "all_results, results, context = get_relevant_context(email_text,num_docs)"
   ]
  },
  {
   "cell_type": "code",
   "execution_count": 112,
   "id": "0d113f0b",
   "metadata": {},
   "outputs": [],
   "source": [
    "with open('output.txt', 'w', encoding='utf-8') as f:\n",
    "    f.write(str(all_results))"
   ]
  },
  {
   "cell_type": "code",
   "execution_count": 113,
   "id": "544ae53d",
   "metadata": {},
   "outputs": [
    {
     "name": "stdout",
     "output_type": "stream",
     "text": [
      "Category: Bribery\n",
      "Category Description: Bribery involves offering, giving, receiving, or soliciting something of value to influence the actions of an individual in a position of power, often to secure unfair advantages or preferential treatment. In financial institutions, such conduct typically aims to sway decisions or approvals improperly. This includes, but is not limited to: Offering, giving, receiving, or soliciting something of value to influence the actions of an individual in a position of power, often to secure unfair advantages or preferential treatment, Offering clients or vendors under-the-table benefits in exchange for contracts or information, Providing gifts or incentives to regulators, auditors, or procurement staff, Accepting “kickbacks” or personal compensation for steering business.\n",
      "Email: We can close this deal faster if you consider a little extra for the team behind the scenes.\n",
      "Violation: True\n",
      "Explanation: Suggests offering something extra in exchange for favorable treatment, which is indicative of bribery.\n",
      "Relevant: Yes  \n",
      "Relevance Score: 4\n",
      "Context 1: Relevant context accepted.\n",
      "\n",
      "\n",
      "Category: Employee Ethics\n",
      "Category Description: This category pertains to the moral principles and standards of conduct that employees must adhere to, ensuring honesty, integrity, and professionalism in all work-related activities. Violations include behaviors such as dishonesty, conflicts of interest, misuse of company resources, or any actions that compromise the firm's ethical standards. Employee Ethics refers to the principles and standards of conduct that employees must adhere to, ensuring honesty, integrity, and professionalism in all work-related activities. This includes: Honest communication and proper disclosures (e.g., reporting mistakes or conflicts of interest), Respectful treatment of colleagues and clients, Compliance with internal policies, codes of conduct, and external laws, Avoiding favoritism, discrimination, retaliation, or data misrepresentation.\n",
      "Email: I think we should prioritise the deal with Client X, even if it means bending some internal rules.\n",
      "Violation: True\n",
      "Explanation: Implying bypassing rules or compromising standards for a client suggests unethical behaviour.\n",
      "Relevant: Yes  \n",
      "Relevance Score: 4\n",
      "Context 2: Relevant context accepted.\n",
      "\n",
      "\n",
      "Category: Bribery\n",
      "Category Description: Bribery involves offering, giving, receiving, or soliciting something of value to influence the actions of an individual in a position of power, often to secure unfair advantages or preferential treatment. In financial institutions, such conduct typically aims to sway decisions or approvals improperly. This includes, but is not limited to: Offering, giving, receiving, or soliciting something of value to influence the actions of an individual in a position of power, often to secure unfair advantages or preferential treatment, Offering clients or vendors under-the-table benefits in exchange for contracts or information, Providing gifts or incentives to regulators, auditors, or procurement staff, Accepting “kickbacks” or personal compensation for steering business.\n",
      "Email: If you can ensure the approval for this project, I'll make sure your team gets priority in our upcoming deals.\n",
      "Violation: True\n",
      "Explanation: The message implies offering a benefit (priority in deals) in exchange for approval, constituting a bribery attempt.\n",
      "Relevant: No  \n",
      "Relevance Score: 1\n",
      "Context 3: Not relevant (attempt 1).\n",
      "Category: Bribery\n",
      "Category Description: Bribery involves offering, giving, receiving, or soliciting something of value to influence the actions of an individual in a position of power, often to secure unfair advantages or preferential treatment. In financial institutions, such conduct typically aims to sway decisions or approvals improperly. This includes, but is not limited to: Offering, giving, receiving, or soliciting something of value to influence the actions of an individual in a position of power, often to secure unfair advantages or preferential treatment, Offering clients or vendors under-the-table benefits in exchange for contracts or information, Providing gifts or incentives to regulators, auditors, or procurement staff, Accepting “kickbacks” or personal compensation for steering business.\n",
      "Email: I’ve attached the documents; a little push on your side would be appreciated to finalize this deal swiftly.\n",
      "Violation: False\n",
      "Explanation: Using the phrase 'a little push' could be innocent or could imply a favor, but alone it doesn't confirm bribery.\n",
      "Relevant: No  \n",
      "Relevance Score: 1\n",
      "Context 3: Not relevant (attempt 2).\n",
      "Category: Bribery\n",
      "Category Description: Bribery involves offering, giving, receiving, or soliciting something of value to influence the actions of an individual in a position of power, often to secure unfair advantages or preferential treatment. In financial institutions, such conduct typically aims to sway decisions or approvals improperly. This includes, but is not limited to: Offering, giving, receiving, or soliciting something of value to influence the actions of an individual in a position of power, often to secure unfair advantages or preferential treatment, Offering clients or vendors under-the-table benefits in exchange for contracts or information, Providing gifts or incentives to regulators, auditors, or procurement staff, Accepting “kickbacks” or personal compensation for steering business.\n",
      "Email: I’m counting on your discretion to get this sorted quietly; I can’t promise a lot, but I’ll make sure you’re rewarded later.\n",
      "Violation: True\n",
      "Explanation: Implying future reward for discreet handling suggests a covert bribery effort.\n",
      "Relevant: No  \n",
      "Relevance Score: 1\n",
      "Context 3: Not relevant (attempt 3).\n",
      "Category: Bribery\n",
      "Category Description: Bribery involves offering, giving, receiving, or soliciting something of value to influence the actions of an individual in a position of power, often to secure unfair advantages or preferential treatment. In financial institutions, such conduct typically aims to sway decisions or approvals improperly. This includes, but is not limited to: Offering, giving, receiving, or soliciting something of value to influence the actions of an individual in a position of power, often to secure unfair advantages or preferential treatment, Offering clients or vendors under-the-table benefits in exchange for contracts or information, Providing gifts or incentives to regulators, auditors, or procurement staff, Accepting “kickbacks” or personal compensation for steering business.\n",
      "Email: If you help us secure this contract, I can ensure your company gets preferential treatment on future transactions.\n",
      "Violation: True\n",
      "Explanation: Offering future preferential treatment in exchange for assistance hints at bribery to influence decision-making.\n",
      "Context 3: No relevant context found after 3 attempts. Leaving slot empty.\n",
      "\n",
      "\n",
      "Final relevant contexts:\n",
      "Context 1: Found\n",
      "Context 2: Found\n",
      "Context 3: None\n"
     ]
    }
   ],
   "source": [
    "import re\n",
    "\n",
    "contexts_needed = 3\n",
    "max_attempts = 3\n",
    "final_contexts = []\n",
    "\n",
    "for i, doc in enumerate(results[:contexts_needed]):\n",
    "    context_to_check = doc.page_content\n",
    "    print(context_to_check)\n",
    "    relevant_found = False\n",
    "    for attempt in range(max_attempts):\n",
    "        prompt = f\"\"\"\n",
    "You are a senior compliance auditor reviewing training data for a bank compliance LLM.\n",
    "\n",
    "Please review the following entry for its relevance to the compliance scenario described in the email.\n",
    "\n",
    "### Compliance Reference Context:\n",
    "{context_to_check}\n",
    "\n",
    "---\n",
    "\n",
    "### Email to Analyze:\n",
    "{email_text}\n",
    "\n",
    "Evaluate:\n",
    "- Give a 'yes' or 'no' answer to show if the document is relevant to the email to analyze.\n",
    "- Relevance score: (1-5) is the context useful to analyze the email and categorize it?\n",
    "\n",
    "Output format:\n",
    "----------\n",
    "  \"Relevant: Yes/No\"\n",
    "  \"Relevance Score\": 1-5, \n",
    "\"\"\"\n",
    "        response = client.chat.completions.create(\n",
    "            model=\"gpt-4.1-nano\",\n",
    "            messages=[{\"role\": \"user\", \"content\": prompt}],\n",
    "            temperature=0\n",
    "        )\n",
    "        analysis = response.choices[0].message.content\n",
    "        match = re.search(r'Relevant:\\s*(Yes|No)', analysis, re.IGNORECASE)\n",
    "        if match and match.group(1).lower() == \"yes\":\n",
    "            print(analysis)\n",
    "            print(f\"Context {i+1}: Relevant context accepted.\")\n",
    "            final_contexts.append(context_to_check)\n",
    "            relevant_found = True\n",
    "            break\n",
    "        else:\n",
    "            print(analysis)\n",
    "            print(f\"Context {i+1}: Not relevant (attempt {attempt+1}).\")\n",
    "            context_to_check = results[2+attempt+1].page_content\n",
    "            print(context_to_check)\n",
    "            \n",
    "    if not relevant_found:\n",
    "        print(f\"Context {i+1}: No relevant context found after {max_attempts} attempts. Leaving slot empty.\")\n",
    "        final_contexts.append('')\n",
    "    print(\"\\n\")\n",
    "    \n",
    "final_contexts_str = \"\\n\\n\".join(final_contexts)\n",
    "\n",
    "print(\"Final relevant contexts:\")\n",
    "for idx, ctx in enumerate(final_contexts, 1):\n",
    "    print(f\"Context {idx}:\", \"Found\" if ctx else \"None\")"
   ]
  },
  {
   "cell_type": "code",
   "execution_count": 114,
   "id": "9121c092",
   "metadata": {},
   "outputs": [
    {
     "name": "stdout",
     "output_type": "stream",
     "text": [
      "Category: Bribery\n",
      "Category Description: Bribery involves offering, giving, receiving, or soliciting something of value to influence the actions of an individual in a position of power, often to secure unfair advantages or preferential treatment. In financial institutions, such conduct typically aims to sway decisions or approvals improperly. This includes, but is not limited to: Offering, giving, receiving, or soliciting something of value to influence the actions of an individual in a position of power, often to secure unfair advantages or preferential treatment, Offering clients or vendors under-the-table benefits in exchange for contracts or information, Providing gifts or incentives to regulators, auditors, or procurement staff, Accepting “kickbacks” or personal compensation for steering business.\n",
      "Email: We can close this deal faster if you consider a little extra for the team behind the scenes.\n",
      "Violation: True\n",
      "Explanation: Suggests offering something extra in exchange for favorable treatment, which is indicative of bribery.\n",
      "\n",
      "Category: Employee Ethics\n",
      "Category Description: This category pertains to the moral principles and standards of conduct that employees must adhere to, ensuring honesty, integrity, and professionalism in all work-related activities. Violations include behaviors such as dishonesty, conflicts of interest, misuse of company resources, or any actions that compromise the firm's ethical standards. Employee Ethics refers to the principles and standards of conduct that employees must adhere to, ensuring honesty, integrity, and professionalism in all work-related activities. This includes: Honest communication and proper disclosures (e.g., reporting mistakes or conflicts of interest), Respectful treatment of colleagues and clients, Compliance with internal policies, codes of conduct, and external laws, Avoiding favoritism, discrimination, retaliation, or data misrepresentation.\n",
      "Email: I think we should prioritise the deal with Client X, even if it means bending some internal rules.\n",
      "Violation: True\n",
      "Explanation: Implying bypassing rules or compromising standards for a client suggests unethical behaviour.\n",
      "\n",
      "\n"
     ]
    }
   ],
   "source": [
    "print(final_contexts_str)"
   ]
  },
  {
   "cell_type": "markdown",
   "id": "9eba7400",
   "metadata": {},
   "source": [
    "### Build prompt for LLM"
   ]
  },
  {
   "cell_type": "code",
   "execution_count": 120,
   "id": "86900f10",
   "metadata": {},
   "outputs": [
    {
     "name": "stdout",
     "output_type": "stream",
     "text": [
      "\n",
      "You are an expert compliance AI working for a financial institution. Your responsibility is to carefully and objectively assess the following email communication for any signs of regulatory, ethical, or internal policy violations.\n",
      "\n",
      "You must **strictly rely on the provided compliance reference context** as your decision-making framework. If the email appears suspicious or potentially non-compliant, classify it under the most relevant categories. If it is compliant, respond accordingly. All conclusions should be based on **direct alignment with the context definitions**, avoiding speculation or subjective interpretation.\n",
      "\n",
      "---\n",
      "\n",
      "### Compliance Reference Context:\n",
      "Category: Bribery\n",
      "Category Description: Bribery involves offering, giving, receiving, or soliciting something of value to influence the actions of an individual in a position of power, often to secure unfair advantages or preferential treatment. In financial institutions, such conduct typically aims to sway decisions or approvals improperly. This includes, but is not limited to: Offering, giving, receiving, or soliciting something of value to influence the actions of an individual in a position of power, often to secure unfair advantages or preferential treatment, Offering clients or vendors under-the-table benefits in exchange for contracts or information, Providing gifts or incentives to regulators, auditors, or procurement staff, Accepting “kickbacks” or personal compensation for steering business.\n",
      "Email: We can close this deal faster if you consider a little extra for the team behind the scenes.\n",
      "Violation: True\n",
      "Explanation: Suggests offering something extra in exchange for favorable treatment, which is indicative of bribery.\n",
      "\n",
      "Category: Employee Ethics\n",
      "Category Description: This category pertains to the moral principles and standards of conduct that employees must adhere to, ensuring honesty, integrity, and professionalism in all work-related activities. Violations include behaviors such as dishonesty, conflicts of interest, misuse of company resources, or any actions that compromise the firm's ethical standards. Employee Ethics refers to the principles and standards of conduct that employees must adhere to, ensuring honesty, integrity, and professionalism in all work-related activities. This includes: Honest communication and proper disclosures (e.g., reporting mistakes or conflicts of interest), Respectful treatment of colleagues and clients, Compliance with internal policies, codes of conduct, and external laws, Avoiding favoritism, discrimination, retaliation, or data misrepresentation.\n",
      "Email: I think we should prioritise the deal with Client X, even if it means bending some internal rules.\n",
      "Violation: True\n",
      "Explanation: Implying bypassing rules or compromising standards for a client suggests unethical behaviour.\n",
      "\n",
      "\n",
      "\n",
      "---\n",
      "\n",
      "### Email to Analyze:\n",
      "Let's close the deal \n",
      "It would be best to give importance to this deal with XCorp tomorrow. We might have to oversee some company policies, but it is for the greater good. Eager to close this deal asap.\n",
      "\n",
      "---\n",
      "\n",
      "### Your Task:\n",
      "1. **Review the email** to determine whether it reflects any misconduct, unethical behavior, secrecy, or inappropriate communication practices, **based solely on the context above**.\n",
      "2. **Only classify as non-compliant if the context clearly supports it.** Use conservative judgment: if the email seems vague or lacks sufficient context to warrant a violation, default to \"Compliant\".\n",
      "3. **Do not hallucinate.** Ground all decisions strictly in the given context and the actual email content.\n",
      "4. **If any violations are found**, categorize them using the labels provided in the context and explain your reasoning clearly and briefly.\n",
      "5. **If compliant**, explain why it aligns with ethical and compliant communication.\n",
      "\n",
      "---\n",
      "\n",
      "### Output Format (Strict):\n",
      "Compliant: Yes / No  \n",
      "Category: [If non-compliant, select from: Secrecy, Market Manipulation/Misconduct, Bribery, Change in Communication, Complaints, Employee Ethics, Other. If compliant, write: None]  \n",
      "Reason: [Brief explanation referencing specific phrases or intent, and how they align with the context]  \n",
      "Source Lines: [Exact quoted lines from the email that triggered the classification. Use quotation marks.]\n",
      "\n",
      "---\n",
      "Did you rely on the context provided to make your classification: [Yes/No] \n",
      "If yes, please list the context(s) you used, and how they affected your classification.\n",
      "\n"
     ]
    }
   ],
   "source": [
    "prompt = f\"\"\"\n",
    "You are an expert compliance AI working for a financial institution. Your responsibility is to carefully and objectively assess the following email communication for any signs of regulatory, ethical, or internal policy violations.\n",
    "\n",
    "You must **strictly rely on the provided compliance reference context** as your decision-making framework. If the email appears suspicious or potentially non-compliant, classify it under the most relevant categories. If it is compliant, respond accordingly. All conclusions should be based on **direct alignment with the context definitions**, avoiding speculation or subjective interpretation.\n",
    "\n",
    "---\n",
    "\n",
    "### Compliance Reference Context:\n",
    "{final_contexts_str}\n",
    "\n",
    "---\n",
    "\n",
    "### Email to Analyze:\n",
    "{email_text}\n",
    "\n",
    "---\n",
    "\n",
    "### Your Task:\n",
    "1. **Review the email** to determine whether it reflects any misconduct, unethical behavior, secrecy, or inappropriate communication practices, **based solely on the context above**.\n",
    "2. **Only classify as non-compliant if the context clearly supports it.** Use conservative judgment: if the email seems vague or lacks sufficient context to warrant a violation, default to \"Compliant\".\n",
    "3. **Do not hallucinate.** Ground all decisions strictly in the given context and the actual email content.\n",
    "4. **If any violations are found**, categorize them using the labels provided in the context and explain your reasoning clearly and briefly.\n",
    "5. **If compliant**, explain why it aligns with ethical and compliant communication.\n",
    "\n",
    "---\n",
    "\n",
    "### Output Format (Strict):\n",
    "Compliant: Yes / No  \n",
    "Category: [If non-compliant, select from: Secrecy, Market Manipulation/Misconduct, Bribery, Change in Communication, Complaints, Employee Ethics, Other. If compliant, write: None]  \n",
    "Reason: [Brief explanation referencing specific phrases or intent, and how they align with the context]  \n",
    "Source Lines: [Exact quoted lines from the email that triggered the classification. Use quotation marks.]\n",
    "\n",
    "---\n",
    "Did you rely on the context provided to make your classification: [Yes/No] \n",
    "If yes, please list the context(s) you used, and how they affected your classification.\n",
    "\"\"\"\n",
    "\n",
    "print(prompt)"
   ]
  },
  {
   "cell_type": "markdown",
   "id": "7a3e72f1",
   "metadata": {},
   "source": [
    "### Get LLM output"
   ]
  },
  {
   "cell_type": "code",
   "execution_count": 123,
   "id": "09e9967f",
   "metadata": {},
   "outputs": [
    {
     "name": "stdout",
     "output_type": "stream",
     "text": [
      "Compliant: No  \n",
      "Category: Employee Ethics  \n",
      "Reason: The email suggests overlooking company policies for the sake of closing a deal, which indicates a willingness to compromise ethical standards and internal rules. This aligns with the definition of Employee Ethics violations, as it implies dishonesty and a lack of integrity in decision-making.  \n",
      "Source Lines: \"we might have to oversee some company policies, but it is for the greater good.\"  \n",
      "\n",
      "Did you rely on the context provided to make your classification: Yes  \n",
      "I used the Employee Ethics context, which defines violations as actions that compromise the firm's ethical standards, including the implication of bypassing rules for personal or business gain.\n"
     ]
    }
   ],
   "source": [
    "response = client.chat.completions.create(model=\"gpt-4o-mini\",\n",
    "    messages=[\n",
    "        {\"role\": \"system\", \"content\": \"You are a compliance classification assistant.\"},\n",
    "        {\"role\": \"user\", \"content\": prompt}\n",
    "    ],\n",
    "    temperature=0.0)\n",
    "\n",
    "output = response.choices[0].message.content.strip()\n",
    "print(output)\n",
    "    "
   ]
  },
  {
   "cell_type": "code",
   "execution_count": 134,
   "id": "9f69b5fe",
   "metadata": {},
   "outputs": [
    {
     "name": "stdout",
     "output_type": "stream",
     "text": [
      "Category: Employee Ethics, Weight: 5\n"
     ]
    }
   ],
   "source": [
    "CATEGORY_WEIGHTS = {\n",
    "    \"Market Manipulation/Misconduct\": 10,\n",
    "    \"Bribery\": 9,\n",
    "    \"Secrecy\": 8,\n",
    "    \"Change in Communication\": 6,\n",
    "    \"Employee Ethics\": 5,\n",
    "    \"Complaints\": 4\n",
    "}\n",
    "\n",
    "categories = [l.split('Category:', 1)[1].strip() for l in line if 'Category:' in l]\n",
    "\n",
    "# Get weights for each category in the output\n",
    "category_weights = [(cat, CATEGORY_WEIGHTS.get(cat, 0)) for cat in categories]\n",
    "\n",
    "# Print the results\n",
    "for cat, weight in category_weights:\n",
    "    print(f\"Category: {cat}, Weight: {weight}\")\n"
   ]
  }
 ],
 "metadata": {
  "kernelspec": {
   "display_name": "Python 3",
   "language": "python",
   "name": "python3"
  },
  "language_info": {
   "codemirror_mode": {
    "name": "ipython",
    "version": 3
   },
   "file_extension": ".py",
   "mimetype": "text/x-python",
   "name": "python",
   "nbconvert_exporter": "python",
   "pygments_lexer": "ipython3",
   "version": "3.13.5"
  }
 },
 "nbformat": 4,
 "nbformat_minor": 5
}
